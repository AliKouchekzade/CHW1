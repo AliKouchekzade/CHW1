{
  "cells": [
    {
      "attachments": {},
      "cell_type": "markdown",
      "metadata": {
        "id": "6DjNbXa-VC9M"
      },
      "source": [
        "<h1 align=\"center\">Mathematical Methods In Engineering - 25872</h1>\n",
        "<h4 align=\"center\">Dr. Amiri</h4>\n",
        "<h4 align=\"center\">Sharif University of Technology, Fall 2023</h4>\n",
        "<h4 align=\"center\">Python Assignment 1</h4>\n",
        "<h4 align=\"center\">feel free to ask your questions via telegram,\n",
        "\n",
        "questions 1,4 : @BeNameBalasari and questions 2,3,5 : @maahmoradi"
      ]
    },
    {
      "attachments": {},
      "cell_type": "markdown",
      "metadata": {},
      "source": [
        "You should write your code in the <font color='green'>Code Cell</font> and then run the <font color='green'>Evaluation Cell</font> to check the output of your code.<br>\n",
        "<font color='red'>**Please do not edit the existing codes.**</font>"
      ]
    },
    {
      "attachments": {},
      "cell_type": "markdown",
      "metadata": {
        "id": "bggG3YqIVC9U"
      },
      "source": [
        "## 1. Introduction to matrices\n",
        "In this question, we want to get familiar with performing simple matrix operations and obtaining special features of matrices in Python <br>\n",
        "#### 1-1-  Vector P-Norm\n",
        " Let $p\\geq 1$  be  a real   number . The  p-norm ( also called \n",
        "$\\ell ^{p}$-norm) of  vector \n",
        "${\\displaystyle \\mathbf {x} =(x_{1},\\ldots ,x_{n})}$  is : \n",
        "${\\displaystyle \\|\\mathbf {x} \\|_{p}:=\\left(\\sum _{i=1}^{n}\\left|x_{i}\\right|^{p}\\right)^{1/p}}$ and\n",
        "${\\displaystyle \\|\\mathbf {x} \\|_{\\infty}:=max(|x_1| , |x_2| , \\cdots ,|x_n|)}$ \n",
        "> Write a function that takes a vector and p as input and gives p-norm as output then use it to calculate the norm-3 of the  following vector ( if the p is np.inf the function should give the infinity norm of the matrix ) :\n",
        "$$\n",
        "x = \\left(\\begin{array}{cc} \n",
        "-3.0\\\\ 1.0 \\\\2.0\n",
        "\\end{array}\\right)\n",
        "$$\n",
        "> then use np.linalg.norm to check your answer "
      ]
    },
    {
      "cell_type": "code",
      "execution_count": 2,
      "metadata": {},
      "outputs": [],
      "source": [
        "# import required packages\n",
        "import numpy as np"
      ]
    },
    {
      "cell_type": "code",
      "execution_count": 3,
      "metadata": {
        "id": "ZzFnxtOIVC9W"
      },
      "outputs": [
        {
          "name": "stdout",
          "output_type": "stream",
          "text": [
            "my calculation :  3.3019272488946263\n",
            "linalg.norm :  3.3019272488946263\n"
          ]
        }
      ],
      "source": [
        "# Code cell\n",
        "def pnorm(x, p):\n",
        "        # write your code here\n",
        "    mag = sum(map(lambda a:np.abs(np.power(a,p)), x))\n",
        "    return np.power(mag, 1/p)\n",
        "\n",
        "X = [-3 , 1 , 2]\n",
        "print('my calculation : ', pnorm(X,3))\n",
        "print('linalg.norm : ', np.linalg.norm(X , 3))"
      ]
    },
    {
      "attachments": {},
      "cell_type": "markdown",
      "metadata": {},
      "source": [
        "#### 1-2- Matrix Norm\n",
        " The \n",
        " operator  norm of matrix $ \\mathbf{A}  $ is : \n",
        "${\\displaystyle \\|\\mathbf {A} \\|:=\\max\\limits_{x\\neq 0}\\left(\\frac{||Ax||}{||x||}\\right)}$\n",
        "\n",
        "and  The Frobenius  norm  is defined  so \n",
        "that   for  every  square  matrix $ \\mathbf{A} $ : ${\\displaystyle \\|\\mathbf {A} \\|_F:=\\left(\\sum_{i,j=1}^{n}(|a_{ij}|^2)\\right)^\\frac{1}{2}}$\n",
        "\n",
        "> Write a function that takes a Matrix  as input and gives frobenius norm as output then use it to calculate the norm of the  following Matrix :\n",
        "$$\n",
        "A = \\begin{bmatrix}\n",
        "    7 & 5 & 1\\\\\n",
        "    1 & 7 & 1\\\\\n",
        "    5 & 5 & 7\n",
        "\\end{bmatrix}\n",
        "$$\n",
        "> then use np.linalg.norm to check your answer and use it to calculate the operator norm of A "
      ]
    },
    {
      "cell_type": "code",
      "execution_count": 4,
      "metadata": {},
      "outputs": [
        {
          "name": "stdout",
          "output_type": "stream",
          "text": [
            "my calculation :  15.0\n",
            "linalg.norm :  15.0\n"
          ]
        }
      ],
      "source": [
        "# Code cell\n",
        "def fnorm(A):\n",
        "    # write your code here\n",
        "    flat = np.array(A).flatten()\n",
        "    mag = sum(map(lambda a: a * a, flat))\n",
        "    return np.sqrt(mag)\n",
        "\n",
        "A = [[7, 5, 1], [1, 7, 1], [5, 5, 7]]\n",
        "print('my calculation : ', fnorm(A))\n",
        "print('linalg.norm : ',np.linalg.norm(A))"
      ]
    },
    {
      "attachments": {},
      "cell_type": "markdown",
      "metadata": {},
      "source": [
        "#### 1-3- Matrix Determinant And Matrix inverse \n",
        "Laplace expansion expresses the determinant of a matrix \n",
        "A recursively in terms of determinants of smaller matrices, known as its minors. The minor \n",
        ", $M_{i,j}$ is defined to be the determinant of the \n",
        "${\\displaystyle (n-1)\\times (n-1)}$ matrix that results from \n",
        "A by removing the \n",
        "i-th row and the \n",
        "j-th column. The expression \n",
        "${\\displaystyle (-1)^{i+j}M_{i,j}}$  is known as a cofactor. For every \n",
        "i, one has the equality :\n",
        "$$\n",
        "det(\\mathbf{A})=\\sum_{j=1}^n\\left((-1)^{i+j}a_{ij}M_{ij}\\right)\n",
        "$$\n",
        "> Write a function that takes a Matrix  as input and gives Determinant as output then use it to calculate the Determinant of the  following Matrix :\n",
        "$$\n",
        "A = \\begin{bmatrix}\n",
        "    7 & 5 & 1\\\\\n",
        "    1 & 7 & 1\\\\\n",
        "    5 & 5 & 7\n",
        "\\end{bmatrix}\n",
        "$$\n",
        "> then use np.linalg.det to check your answer "
      ]
    },
    {
      "cell_type": "code",
      "execution_count": 5,
      "metadata": {},
      "outputs": [
        {
          "name": "stdout",
          "output_type": "stream",
          "text": [
            "my calculationm :  268\n",
            "linalg.det :  267.99999999999994\n"
          ]
        }
      ],
      "source": [
        "# Code cell\n",
        "def det(A):\n",
        "    \n",
        "    n = len(A)\n",
        "    \n",
        "    if n == 1:\n",
        "        return A[0][0]\n",
        "\n",
        "    if n == 2:\n",
        "        return A[0][0] * A[1][1] - A[0][1] * A[1][0] # ad - bc\n",
        "    \n",
        "    determine = 0\n",
        "    for j in range(n):\n",
        "        submatrix = [row[:j] + row[j+1:] for row in A[1:]]\n",
        "        determine += A[0][j] * det(submatrix) * ((-1) ** j)\n",
        "\n",
        "    return determine\n",
        "\n",
        "# A is defined in previous code cell\n",
        "print('my calculationm : ', det(A))\n",
        "print('linalg.det : ',np.linalg.det(A))"
      ]
    },
    {
      "attachments": {},
      "cell_type": "markdown",
      "metadata": {},
      "source": [
        "The inverse of a Matrix is defined as : \n",
        "$$\n",
        "\\mathbf{A}^{-1}=\\frac{adj(A)}{det(A)}\n",
        "$$\n",
        "The adjugate of $\\mathbf{A} \\ adj(\\mathbf{A})$ is the transpose of $\\mathbf{C}$, that is, the n × n matrix whose (i, j) entry is the (j, i) cofactor of A,\n",
        "$$\n",
        "adj(\\mathbf{A})=\\mathbf{C}^T=\\left((-1)^{i+j}M_{ji}\\right)_{1 \\leq i,j \\leq n}\n",
        "$$\n",
        "> Write a function that takes a Matrix  as input and gives inverse of Matrix as output then use it to calculate the inverse of the  following Matrix :\n",
        "$$\n",
        "A = \\begin{bmatrix}\n",
        "    7 & 5 & 1\\\\\n",
        "    1 & 7 & 1\\\\\n",
        "    5 & 5 & 7\n",
        "\\end{bmatrix}\n",
        "$$\n",
        "> then use np.linalg.inv to check your answer "
      ]
    },
    {
      "cell_type": "code",
      "execution_count": 6,
      "metadata": {},
      "outputs": [
        {
          "name": "stdout",
          "output_type": "stream",
          "text": [
            "my calculation : \n",
            "[0.16417910447761194, -0.11194029850746269, -0.007462686567164179]\n",
            "[-0.007462686567164179, 0.16417910447761194, -0.022388059701492536]\n",
            "[-0.11194029850746269, -0.03731343283582089, 0.16417910447761194]\n",
            "linalg.inv : \n",
            "[[ 0.1641791  -0.1119403  -0.00746269]\n",
            " [-0.00746269  0.1641791  -0.02238806]\n",
            " [-0.1119403  -0.03731343  0.1641791 ]]\n"
          ]
        }
      ],
      "source": [
        "# Code cell\n",
        "def cofactor(matrix, n):\n",
        "    cofactor_matrix = [[0 for _ in range(n)] for _ in range(n)]\n",
        "    \n",
        "    for i in range(n):\n",
        "        for j in range(n):\n",
        "            submatrix = [[matrix[row][col] for col in range(n) if col != j] for row in range(n) if row != i]\n",
        "            submatrix_det = det(submatrix)\n",
        "            cofactor_matrix[i][j] = submatrix_det * (-1) ** (i + j)\n",
        "            \n",
        "    return cofactor_matrix\n",
        "\n",
        "\n",
        "def transpose(matrix, n):\n",
        "    transposed = [[0 for _ in range(n)] for _ in range(n)]\n",
        "    \n",
        "    for i in range(n):\n",
        "        for j in range(n):\n",
        "            transposed[j][i] = matrix[i][j]\n",
        "\n",
        "    return transposed\n",
        "\n",
        "\n",
        "def inv(A):\n",
        "    n = len(A)\n",
        "    \n",
        "    adj = transpose(cofactor(A,n),n)\n",
        "    \n",
        "    determine = det(A)\n",
        "    \n",
        "    inv = [[0 for _ in range(n)] for _ in range(n)]\n",
        "        \n",
        "    for i in range(n):\n",
        "        for j in range(n):\n",
        "            inv[i][j] = adj[i][j] / determine\n",
        "            \n",
        "    return inv \n",
        "# A is defined in previous code cell\n",
        "print('my calculation : ')\n",
        "inv = inv(A)\n",
        "for i in range(3):\n",
        "    print(inv[i])\n",
        "print('linalg.inv : ')\n",
        "print(np.linalg.inv(A))"
      ]
    },
    {
      "cell_type": "markdown",
      "metadata": {},
      "source": [
        "## 2. Gauss-Jordan elimination\n",
        "#### 2-1-  Implementation\n",
        "The Gauss-Jordan Elimination method is an algorithm to solve a linear system of equations. This method solves the system by representing it as an augmented matrix, reducing it using row operations, and expressing the system in reduced row-echelon form to find the values of the variables. \\\n",
        "The function gauss_jordan_elimination takes two arguments: the matrix A representing the coefficients of the equations, and the vector b representing the constants on the right-hand side of the equations. It sets flag to 1 and returns the solution vector x if exists, else sets flag to 0 in case of 'No Solution' or 'Infinite Solutions' and prints the corresponding case.\n",
        "\n",
        "Here's an example of a system of equations $\\textbf{Ax = b}$\n",
        "\n",
        "the inputs of the function :\n",
        "\n",
        "$$\n",
        "A = \\begin{bmatrix}\n",
        "    2  & 1  & 5 \\\\\n",
        "    4  & 4  & -4 \\\\\n",
        "    1 & 3 & 1 \n",
        "\\end{bmatrix}\n",
        "$$\n",
        "\n",
        "$$\n",
        "b = \\begin{bmatrix}\n",
        "    8  \\\\\n",
        "    4  \\\\\n",
        "    5 \n",
        "\\end{bmatrix}\n",
        "$$\n",
        "\n",
        "the corresponding output :\n",
        "\n",
        "$$\n",
        "x = \\begin{bmatrix}\n",
        "    1  \\\\\n",
        "    1  \\\\\n",
        "    1 \n",
        "\\end{bmatrix}\n",
        "$$"
      ]
    },
    {
      "cell_type": "code",
      "execution_count": 7,
      "metadata": {},
      "outputs": [],
      "source": [
        "# import required packages\n",
        "import numpy as np\n",
        "import time"
      ]
    },
    {
      "cell_type": "code",
      "execution_count": 8,
      "metadata": {},
      "outputs": [],
      "source": [
        "# Code cell\n",
        "def gauss_jordan_elimination(A, b):\n",
        "\n",
        "    n = len(A)\n",
        "    \n",
        "    augmented_matrix = np.column_stack((A, b.astype(float)))\n",
        "    \n",
        "    for col in range(n):\n",
        "        pivot_row = col\n",
        "        while pivot_row < n and augmented_matrix[pivot_row, col] == 0:\n",
        "            pivot_row += 1\n",
        "\n",
        "        if pivot_row == n:\n",
        "            for i in range(n):\n",
        "                if np.all(augmented_matrix[i, :-1] == 0) and augmented_matrix[i, -1] != 0:\n",
        "                    print('No solution')\n",
        "                    return [], 0\n",
        "            print('Infinite solutions')\n",
        "            return [], 0\n",
        "\n",
        "        if pivot_row != col:\n",
        "            augmented_matrix[[col, pivot_row]] = augmented_matrix[[pivot_row, col]]\n",
        "\n",
        "        pivot_element = augmented_matrix[col, col]\n",
        "        augmented_matrix[col] /= pivot_element\n",
        "\n",
        "        for i in range(n):\n",
        "            if i != col:\n",
        "                factor = augmented_matrix[i, col]\n",
        "                augmented_matrix[i] -= factor * augmented_matrix[col]\n",
        "\n",
        "   \n",
        "    x = augmented_matrix[:,-1]\n",
        "    return x, 1"
      ]
    },
    {
      "cell_type": "code",
      "execution_count": 9,
      "metadata": {},
      "outputs": [
        {
          "name": "stdout",
          "output_type": "stream",
          "text": [
            "status: successful, time elapsed: 0.0 seconds\n",
            "status: successful, time elapsed: 0.0 seconds\n"
          ]
        }
      ],
      "source": [
        "# Evaluation Cell\n",
        "n = 10\n",
        "A = np.zeros((10,10))\n",
        "b = np.random.randint(100, size=(10))\n",
        "while np.linalg.matrix_rank(A) != n: \n",
        "  A = np.random.randint(0,100,(n, n))\n",
        "s = time.time()\n",
        "elapsed = time.time() - s\n",
        "x, flag = gauss_jordan_elimination(A,b)\n",
        "assert flag == 1, \"flag's not set correctly\"\n",
        "assert np.linalg.norm(A @ x - b) < 1e-7, \"Ax = b is not satisfied\"\n",
        "print(f'status: successful, time elapsed: {np.round(elapsed, 5)} seconds')\n",
        "b = np.random.randint(100, size=(10))\n",
        "A = np.random.randint(0, 100, (n, n))\n",
        "U, S, V = np.linalg.svd(A)\n",
        "r = 9  \n",
        "S[r:] = 0 \n",
        "A = U.dot(np.diag(S)).dot(V)\n",
        "b = np.random.randint(100, size=(10))\n",
        "s = time.time()\n",
        "elapsed = time.time() - s\n",
        "x, flag = gauss_jordan_elimination(A,b)\n",
        "assert flag == 1, \"flag's not set correctly\"\n",
        "print(f'status: successful, time elapsed: {np.round(elapsed, 5)} seconds')"
      ]
    },
    {
      "cell_type": "markdown",
      "metadata": {},
      "source": [
        "## 3. Statistics on random matrices\n",
        "\n",
        "On average, a random matrix is invertible. But what if the random matrix has entries that are either 0 or 1 with equal probability? What is the probability that a 5 by 5 matrix whose entries are all zeros or ones is singular? And what is the average number of pivot columns? That is what you will find out in this exercise.\n",
        "\n",
        "Create random integer matrices whose entries are either 0 or 1. To find the number of pivot columns of a matrix A, complete the function getrank below.\n"
      ]
    },
    {
      "cell_type": "code",
      "execution_count": 10,
      "metadata": {},
      "outputs": [],
      "source": [
        "# Code cell\n",
        "def getrank(A):\n",
        "    n = len(A)\n",
        "    rank = 0\n",
        "    \n",
        "    for col in range(n):\n",
        "        \n",
        "        nonzero_row = -1\n",
        "        for i in range(rank, n):\n",
        "            if A[i][col] != 0:\n",
        "                nonzero_row = i\n",
        "                break\n",
        "\n",
        "        if nonzero_row != -1:\n",
        "            A[rank], A[nonzero_row] = A[nonzero_row], A[rank]\n",
        "            pivot = A[rank][col]\n",
        "            A[rank] = [elem / pivot for elem in A[rank]]\n",
        "            \n",
        "            for i in range(rank + 1, n):\n",
        "                factor = A[i][col]\n",
        "                A[i] = [elem - factor * A[rank][j] for j, elem in enumerate(A[i])]\n",
        "\n",
        "            rank += 1\n",
        "\n",
        "    return rank"
      ]
    },
    {
      "cell_type": "code",
      "execution_count": 11,
      "metadata": {},
      "outputs": [
        {
          "name": "stdout",
          "output_type": "stream",
          "text": [
            "[ 3.3 , 0.9 ]\n"
          ]
        }
      ],
      "source": [
        "# Code cell\n",
        "\n",
        "num = 100000;  # Number of random trials \n",
        "n = 5  # Size of matrix\n",
        "\n",
        "# (avg number of pivots, probability of being singular)\n",
        "# in the format [a.b,c.d] where you rounded the answer to one decimal place.\n",
        "\n",
        "# write your code here\n",
        "pivot = 0\n",
        "singular = 0\n",
        "for i in range (num):\n",
        "    randMatrix = np.random.randint(low= 0 , high = 2 , size = (5,5))\n",
        "    rank = getrank(randMatrix) \n",
        "    if(rank != n):\n",
        "        singular = singular + 1\n",
        "        pivot = rank + pivot\n",
        "\n",
        "print('[', round(pivot / num,1) ,',', round(singular / num,1) , ']')"
      ]
    },
    {
      "cell_type": "markdown",
      "metadata": {},
      "source": [
        "We've looked at random matrices whose entries are 0 or 1. But how does size effect the rank and the probability of being singular? Repeat the previous exercise for 10 by 10 matrices with entries that are 0 or 1.\n",
        "\n",
        "Explore and plot the probability of singularity and the average number of pivots for different sizes of random matrices. Can you determine how this probability depends on the size of the matrix? You might try to find the probability of a 10 by 10 random matrix with entries 0 or 1 has rank 10, 9, 8, 7 etc. You can check your probabilities against the expected value to see if your probabilities match your observations. You might try to connect these probabilities with determinant formulas to see if you can predict the numbers from other formulas and prove a relationship. Happy explorations!\n",
        "\n",
        " guess what happens as $n \\rightarrow \\infty $\n",
        ", but only run up to 80"
      ]
    },
    {
      "cell_type": "code",
      "execution_count": 12,
      "metadata": {},
      "outputs": [
        {
          "name": "stdout",
          "output_type": "stream",
          "text": [
            "n = 5 : [ 3.7 , 0.9 ]\n",
            "n = 10 : [ 8.7 , 0.8 ]\n",
            "n = 20 : [ 19.7 , 0.3 ]\n",
            "n = 40 : [ 39.9 , 0.1 ]\n",
            "n = 80 : [ 80.0 , 0.0 ]\n"
          ]
        }
      ],
      "source": [
        "# Code cell\n",
        "nvalues = [5,10,20,40,80]\n",
        "num = 500\n",
        "\n",
        "# write your code here\n",
        "\n",
        "for n in nvalues :\n",
        "    tot = 0\n",
        "    pivot = 0\n",
        "    singular = 0\n",
        "    for i in range (num):\n",
        "        A=np.random.randint(low= 0 , high = 2 , size = (n,n))\n",
        "        rank = getrank(A) \n",
        "        if(rank != n):\n",
        "            singular = singular + 1\n",
        "\n",
        "        pivot = rank + pivot\n",
        "        tot = tot + 1\n",
        "\n",
        "    print('n =', n ,': [', round(pivot / tot,1) ,',', round(singular / tot,1) , ']')\n"
      ]
    },
    {
      "cell_type": "markdown",
      "metadata": {},
      "source": [
        "## 4. Application of Cholesky decomposition\n",
        "#### 4-1-  Cholesky decomposition\n",
        "In linear algebra, LU decomposition factors a matrix ($\\textbf{A} :n \\times n$) as the product of a lower triangular matrix ($\\textbf{L} :n \\times n$) and an upper triangular matrix ($\\textbf{U} :n \\times n$). The product sometimes includes a permutation matrix ($\\textbf{P} :n \\times n$) as well.\n",
        "$$ \\textbf{PA} = \\textbf{LU} $$\n",
        "We know that the elements on the main diagonal of the $\\textbf{U}$ are the pivots. So $\\textbf{U}$ can be decomposed into a diagonal matrix ($\\textbf{D} :n \\times n$) with elements whose pivots are on the main diagonal and a normalized $\\textbf{U}$ matrix.\n",
        "$$ \\textbf{PA} = \\textbf{LDU}  $$\n",
        "if the A is symmetric then we have the Cholesky decomposition :\n",
        "$$\n",
        "\\mathbf{A}^T=\\mathbf{A} \\longrightarrow \\mathbf{A} =LD^\\frac{1}{2}D^\\frac{1}{2} L^T= (LD^\\frac{1}{2})(LD^\\frac{1}{2})^T=L'{L'} ^T\n",
        "$$\n",
        "There are various methods for calculating the Cholesky decomposition one of them is $\\bold{Cholesky–Banachiewicz}$ algorithm :\n",
        "$$\n",
        "A=LL^T=\\begin{bmatrix}\n",
        "    L_{11}& 0 & 0\\\\\n",
        "    L_{21} & L_{22} & 0\\\\\n",
        "    L_{31}  & L_{32}  & L_{33} \n",
        "\\end{bmatrix}\\begin{bmatrix}\n",
        "    L_{11}  & L_{21}  & L_{31} \\\\\n",
        "    0  & L_{22}  & L_{32} \\\\\n",
        "    0 & 0 & L_{33} \n",
        "\\end{bmatrix}=\\begin{bmatrix}\n",
        "    L_{11}^2  &   & (symmetric) \\\\\n",
        "    L_{21}L_{11}  & L_{21}^2+L_{22}^2  &  \\\\\n",
        "    L_{31}L_{11}& L_{31}L_{21}+L_{32}L_{22}& L_{33}^2+L_{32}^2+L_{31}^2 \n",
        "\\end{bmatrix}\n",
        "$$\n",
        "\n",
        "and therefore the following formulas for the entries of L:\n",
        "\n",
        "$$\n",
        "L_{jj}=\\sqrt{A_{jj}-\\sum_{k=1}^{j-1}L_{jk}^2} \\\\\n",
        "\\\\\n",
        "L_{i,j}=\\frac{\\left(A_{ij}-\\sum_{k=1}^{j-1}L_{jk}L_{ik}\\right)}{L_{jj}} \\  \\ for \\ \\ i>j\n",
        "$$\n",
        "\n",
        "> Use this algorithm to write a function that takes a matrix and gives its cholesky decomposition. also print the output for the following matrix :\n",
        "$$\n",
        "\\mathbf{C}=\n",
        "\\begin{bmatrix}\n",
        "    1 & 0.7 \\\\\n",
        "    0.7 & 1\n",
        "\\end{bmatrix}\n",
        "$$ \n",
        "\n",
        "\n",
        "> then use np.linalg.cholesky to check your answer "
      ]
    },
    {
      "cell_type": "code",
      "execution_count": 13,
      "metadata": {},
      "outputs": [
        {
          "name": "stdout",
          "output_type": "stream",
          "text": [
            "my calculation : \n",
            "[1. 0.]\n",
            "[0.7        0.71414284]\n",
            "np.linalg.cholesky : \n",
            "[[1.         0.        ]\n",
            " [0.7        0.71414284]]\n"
          ]
        }
      ],
      "source": [
        "def cholesky(A):\n",
        "    # write your code here\n",
        "    n = len(A)\n",
        "    L = []\n",
        "    for col in range(n):\n",
        "        row = np.zeros(n)\n",
        "        L.append(row)\n",
        "    \n",
        "    for i in range(n):\n",
        "        for k in range(i+1):\n",
        "            tmp_sum = sum(L[i][j] * L[k][j] for j in range(k))\n",
        "            if (i == k):\n",
        "                L[i][k] = np.sqrt(A[i][i] - tmp_sum)\n",
        "            else:\n",
        "                L[i][k] = (1.0 / L[k][k] * (A[i][k] - tmp_sum))\n",
        "    return L\n",
        "\n",
        "C = [[1 , 0.7] , [0.7 , 1]]\n",
        "print('my calculation : ' )\n",
        "L = cholesky(C)\n",
        "for i in range(2):\n",
        "    print(L[i])\n",
        "print('np.linalg.cholesky : ' )\n",
        "print(np.linalg.cholesky(C))"
      ]
    },
    {
      "cell_type": "markdown",
      "metadata": {},
      "source": [
        "#### 4-2-  Using Cholesky to generate correlated random numbers\n",
        "\n",
        "The co-variance Matrix of any random vector Y\n",
        " is given as $\\mathbf{E}(YY^T)$\n",
        ", where Y\n",
        " is a random column vector of size n×1\n",
        ". Now take a random vector, X\n",
        ", consisting of uncorrelated random variables with each random variable, $X_i$\n",
        ", having zero mean and unit variance 1\n",
        ". Since $X_i$\n",
        "'s are uncorrelated random variables with zero mean and unit variance, we have $\\mathbf{E}(X_i X_j^T)=δ_{ij}$\n",
        ". Hence,\n",
        "$$\n",
        "\\mathbf{E}(XX^T)=I\n",
        "$$\n",
        "To generate a random vector with a given covariance matrix $\\mathbf{C}$\n",
        ", look at the Cholesky decomposition of $C$\n",
        " i.e. $\\mathbf{C}=LL^T$\n",
        " \n",
        "Now look at the random vector $Z=LX$ :\n",
        "$$\n",
        "\\mathbf{E}(ZZ^T)=\\mathbf{E}\\left((LX)(LX)^T\\right)=L\\mathbf{E}(XX^T)L^T =LL^T=\\mathbf{C}\n",
        "$$\n",
        "Hence, the random vector $\\mathbf{Z}$\n",
        " has the desired co-variance matrix, $\\mathbf{C}$\n",
        "\n",
        " >Make the covarience matirx of $C$\n",
        "  $$\n",
        "\\mathbf{C}=\n",
        "\\begin{bmatrix}\n",
        "    1 & 0.7 \\\\\n",
        "    0.7 & 1\n",
        "\\end{bmatrix}\n",
        "$$ \n",
        "\n",
        " \n",
        " >Then we need another matrix with the desired standard deviation in the diagonal  $\\Tau$\n",
        " $$\n",
        "\\mathbf{\\Tau}=\n",
        "\\begin{bmatrix}\n",
        "    1 & 0 \\\\\n",
        "    0 & 2\n",
        "\\end{bmatrix}\n",
        "$$ \n",
        ">Then find the cholesky decomposition of $C$\n"
      ]
    },
    {
      "cell_type": "code",
      "execution_count": 14,
      "metadata": {},
      "outputs": [
        {
          "data": {
            "text/plain": [
              "array([[1.        , 0.        ],\n",
              "       [0.7       , 0.71414284]])"
            ]
          },
          "execution_count": 14,
          "metadata": {},
          "output_type": "execute_result"
        }
      ],
      "source": [
        "# Code cell\n",
        "C = np.array(C)\n",
        "T = np.array([[1,0],[0,2]])\n",
        "L = np.array(L)\n",
        "L"
      ]
    },
    {
      "cell_type": "markdown",
      "metadata": {},
      "source": [
        ">Now  generate values for 2 independent random variables and put them in  2*1000 matrix $X$ (1000 samples)\n",
        "\n",
        "you can use np.random.normal ( generates iid random variables each time )"
      ]
    },
    {
      "cell_type": "code",
      "execution_count": 15,
      "metadata": {},
      "outputs": [
        {
          "data": {
            "text/plain": [
              "array([[-0.9255373 , -0.11206049,  1.22962388, ...,  1.28455124,\n",
              "         0.45212537, -0.67647157],\n",
              "       [ 0.25715502, -1.01782327,  1.99693066, ..., -0.94945536,\n",
              "         1.72507129, -0.13345811]])"
            ]
          },
          "execution_count": 15,
          "metadata": {},
          "output_type": "execute_result"
        }
      ],
      "source": [
        "# Code cell\n",
        "X = np.random.normal(0, 1, size=(2, 1000))\n",
        "\n",
        "\n",
        "Z = T@ L @ X\n",
        "Z"
      ]
    },
    {
      "cell_type": "markdown",
      "metadata": {},
      "source": [
        ">then calculate $\\mathbf{Z}=\\Tau L X$ and then plot Z[1] in base of Z[0] and X[1] in base of X[0] "
      ]
    },
    {
      "cell_type": "code",
      "execution_count": 28,
      "metadata": {},
      "outputs": [
        {
          "data": {
            "image/png": "[encoded data removed]",
            "text/plain": [
              "<Figure size 800x400 with 2 Axes>"
            ]
          },
          "metadata": {},
          "output_type": "display_data"
        }
      ],
      "source": [
        "import matplotlib.pyplot as plt\n",
        "plt.figure(figsize=(8, 4))\n",
        "\n",
        "plt.subplot(1, 2, 1)\n",
        "plt.scatter(Z[0], Z[1], s = 10, c ='r')\n",
        "plt.title('Z[1] in base of Z[0]')\n",
        "plt.xlabel('Z[0]')\n",
        "plt.ylabel('Z[1]')\n",
        "\n",
        "plt.subplot(1, 2, 2)\n",
        "plt.scatter(X[0], X[1], s = 10, c = 'r')\n",
        "plt.title('X[1] in base of X[0]')\n",
        "plt.xlabel('X[0]')\n",
        "plt.ylabel('X[1]')\n",
        "\n",
        "plt.show()"
      ]
    },
    {
      "cell_type": "markdown",
      "metadata": {},
      "source": [
        ">now  check the correlation in generated samples with using np.correlate"
      ]
    },
    {
      "cell_type": "code",
      "execution_count": 34,
      "metadata": {},
      "outputs": [
        {
          "name": "stdout",
          "output_type": "stream",
          "text": [
            "[1183.75476304]\n",
            "[-67.07560091]\n"
          ]
        }
      ],
      "source": [
        "# Code cell\n",
        "print(np.correlate(Z[1],Z[0]))\n",
        "print(np.correlate(X[1],X[0]))"
      ]
    },
    {
      "cell_type": "markdown",
      "metadata": {},
      "source": [
        "## 5. Graphs (bonus)\n",
        "\n",
        "I suggest running this question's code cells in google colab to install the $\\textbf{PyGSP}$ package by  simply running the following code cell"
      ]
    },
    {
      "cell_type": "code",
      "execution_count": 18,
      "metadata": {},
      "outputs": [],
      "source": [
        "#!pip install pygsp"
      ]
    },
    {
      "cell_type": "markdown",
      "metadata": {},
      "source": [
        "\n",
        "<!-- ![]( graph.png) -->\n",
        "<div style=\"text-align:center\">\n",
        "    <img src=\"graph.png\" alt=\"Image\" />\n",
        "</div> \n",
        "\n",
        "\n",
        "For the directed graph above the adjacency matrix is : \n",
        "$\n",
        "A = \\begin{bmatrix}\n",
        "    0  & 1  & 1 & 0\\\\\n",
        "    -1  & 0  & 1 & 1 \\\\\n",
        "    -1 & -1 & 0 & 1 \\\\\n",
        "    0  & -1  & -1 & 0\n",
        "\\end{bmatrix}\n",
        "$ \n",
        "\n",
        "If we change the nodes numbering, the properties of the graph don't change yet the adjacency matrix changes. \n"
      ]
    },
    {
      "cell_type": "code",
      "execution_count": 19,
      "metadata": {},
      "outputs": [],
      "source": [
        "# import required packages\n",
        "import numpy as np\n",
        "import matplotlib.pyplot as plt\n",
        "from pygsp import graphs, filters, plotting\n",
        "import cv2"
      ]
    },
    {
      "cell_type": "markdown",
      "metadata": {},
      "source": [
        "\n",
        "#### 5-1-  Introduction to graphs \n",
        ">construct the permutation matrix $\\textbf{P}$ by modifying the Identity matrix. then use it to number the graph's nodes in reverse order"
      ]
    },
    {
      "cell_type": "code",
      "execution_count": 20,
      "metadata": {},
      "outputs": [],
      "source": [
        "# Code cell\n",
        "\n",
        "A_modified = ..."
      ]
    },
    {
      "cell_type": "code",
      "execution_count": 21,
      "metadata": {},
      "outputs": [
        {
          "ename": "ValueError",
          "evalue": "The truth value of an array with more than one element is ambiguous. Use a.any() or a.all()",
          "output_type": "error",
          "traceback": [
            "\u001b[1;31m---------------------------------------------------------------------------\u001b[0m",
            "\u001b[1;31mValueError\u001b[0m                                Traceback (most recent call last)",
            "\u001b[1;32mc:\\university\\term 5\\روش های ریاضی در مهندسی\\CHW1\\CHW1.ipynb Cell 37\u001b[0m line \u001b[0;36m2\n\u001b[0;32m      <a href='vscode-notebook-cell:/c%3A/university/term%205/%D8%B1%D9%88%D8%B4%20%D9%87%D8%A7%DB%8C%20%D8%B1%DB%8C%D8%A7%D8%B6%DB%8C%20%D8%AF%D8%B1%20%D9%85%D9%87%D9%86%D8%AF%D8%B3%DB%8C/CHW1/CHW1.ipynb#X51sZmlsZQ%3D%3D?line=0'>1</a>\u001b[0m \u001b[39m# Evaluation Cell\u001b[39;00m\n\u001b[1;32m----> <a href='vscode-notebook-cell:/c%3A/university/term%205/%D8%B1%D9%88%D8%B4%20%D9%87%D8%A7%DB%8C%20%D8%B1%DB%8C%D8%A7%D8%B6%DB%8C%20%D8%AF%D8%B1%20%D9%85%D9%87%D9%86%D8%AF%D8%B3%DB%8C/CHW1/CHW1.ipynb#X51sZmlsZQ%3D%3D?line=1'>2</a>\u001b[0m \u001b[39massert\u001b[39;00m A_modified \u001b[39m==\u001b[39m np\u001b[39m.\u001b[39mmatrix(\u001b[39m'\u001b[39m\u001b[39m0 -1 -1 0; 1 0 -1 -1; 1 1 0 -1; 0 1 1 0\u001b[39m\u001b[39m'\u001b[39m), \u001b[39m\"\u001b[39m\u001b[39mwrong!\u001b[39m\u001b[39m\"\u001b[39m\n",
            "\u001b[1;31mValueError\u001b[0m: The truth value of an array with more than one element is ambiguous. Use a.any() or a.all()"
          ]
        }
      ],
      "source": [
        "# Evaluation Cell\n",
        "assert A_modified == np.matrix('0 -1 -1 0; 1 0 -1 -1; 1 1 0 -1; 0 1 1 0'), \"wrong!\""
      ]
    },
    {
      "cell_type": "markdown",
      "metadata": {},
      "source": [
        "#### 5-2-  Graph image processing  \n",
        "\n",
        "Inpainting is a classical signal processing problem where we wish to fill in the missing values in a\n",
        "partially observed signal. This is here done in the context of image processing for inferring missing pixel values in\n",
        "an image. The signal in the image is considered to be the image matrix flattened while the image is modeled as a 2D grid graph.\n",
        "Inpainting for an image can be formulated as below:\n",
        "\n",
        "$$(M + \\alpha L)x = y$$\n",
        "\n",
        "where y is a partially observed graph signal (with missing values being 0), and M is a diagonal matrix that satisfies:\n",
        " $$ M(i, i)=   \\left\\{\n",
        "\\begin{array}{ll}\n",
        "      1, & if & y(i) & is & observed, \\\\\n",
        "      0, & if & y(i) & is & not & observed, \\\\\n",
        "\\end{array} \n",
        "\\right.  $$\n",
        "\n",
        "The Equation tries to find an x that nearly matches the observed values in y, and at the same time\n",
        "being smooth on the graph (the image here). The regularisation parameter α controls the trade-off between the data fidelity term and the\n",
        "smoothness prior. The solution can therefore be considered as an inpainted version of the partially observed signal."
      ]
    },
    {
      "cell_type": "markdown",
      "metadata": {},
      "source": [
        ">Use the cv2 package to load a grayscale version of the cameraman image with a relatively low resolution, 64 by 64, then display the image using matplotlib.pyplot\n",
        "\n",
        "- do not forget to convert RGB to gray to reduce the 3 color channels to one"
      ]
    },
    {
      "cell_type": "code",
      "execution_count": null,
      "metadata": {},
      "outputs": [],
      "source": [
        "# Code cell"
      ]
    },
    {
      "cell_type": "markdown",
      "metadata": {},
      "source": [
        ">Now flatten the image matrix to get the signal\\\n",
        ">Then, construct the diagonal matrix M which has its diagonal 0 except for $p = 50%$ of its elements that are randomly set to 1\\\n",
        ">At last, apply the observasion matrix M to the signal and construct y "
      ]
    },
    {
      "cell_type": "code",
      "execution_count": null,
      "metadata": {},
      "outputs": [],
      "source": [
        "# Code cell"
      ]
    },
    {
      "cell_type": "code",
      "execution_count": null,
      "metadata": {},
      "outputs": [],
      "source": [
        "# do not edit this cell \n",
        "G = graphs.Grid2d(64,64)\n",
        "L = G.L"
      ]
    },
    {
      "cell_type": "markdown",
      "metadata": {},
      "source": [
        ">To get x, apply the $\\textbf{Cholesky decomposition}$ to ( $M+\\alpha L$ ) and then solve the stated equation applying np.linalg.inv() to the two terms multiplied by x ( note that L is given by the code cell above )\n",
        "- check the soloution with \"np.linalg.solve()\""
      ]
    },
    {
      "cell_type": "code",
      "execution_count": null,
      "metadata": {},
      "outputs": [],
      "source": [
        "# Code cell"
      ]
    },
    {
      "cell_type": "markdown",
      "metadata": {},
      "source": [
        ">For values of alpha 0.001 , 0.1 , 10 and p values 50 , 75 display the original, the damaged and the Inpainted image in subplots"
      ]
    },
    {
      "cell_type": "code",
      "execution_count": null,
      "metadata": {},
      "outputs": [],
      "source": [
        "# Code cell"
      ]
    }
  ],
  "metadata": {
    "colab": {
      "provenance": []
    },
    "kernelspec": {
      "display_name": "base",
      "language": "python",
      "name": "python3"
    },
    "language_info": {
      "codemirror_mode": {
        "name": "ipython",
        "version": 3
      },
      "file_extension": ".py",
      "mimetype": "text/x-python",
      "name": "python",
      "nbconvert_exporter": "python",
      "pygments_lexer": "ipython3",
      "version": "3.11.5"
    },
    "orig_nbformat": 4,
    "vscode": {
      "interpreter": {
        "hash": "a552c2ea7a7b6736ba4a8b66efcb40eda8d77c5e9d980e5b81f29aecaaefb085"
      }
    }
  },
  "nbformat": 4,
  "nbformat_minor": 0
}
